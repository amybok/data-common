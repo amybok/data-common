{
 "cells": [
  {
   "cell_type": "markdown",
   "metadata": {},
   "source": [
    "## Displaying the files used for raw data"
   ]
  },
  {
   "cell_type": "code",
   "execution_count": null,
   "metadata": {},
   "outputs": [],
   "source": [
    "import os\n",
    "\n",
    "# Display all the filenames for raw data (fake)\n",
    "for filename in os.listdir(\"D:/WEHI Internship/Demo/PDC/PDC0003/raw_data\"): # This is just for demo, in reality, this should be replaced with whatever the location that the data is stored at WEHI\n",
    "    print(filename)\n",
    "        \n",
    "    "
   ]
  },
  {
   "cell_type": "markdown",
   "metadata": {},
   "source": [
    "## Some functions"
   ]
  },
  {
   "cell_type": "code",
   "execution_count": null,
   "metadata": {},
   "outputs": [],
   "source": [
    "import os\n",
    "import pandas as pd\n",
    "import matplotlib.pyplot as plt\n",
    "\n",
    "def preprocess_data(filepath):\n",
    "    print(f\"Preprocessing data from file: {filepath}\")\n",
    "    # Simulate preprocessing logic\n",
    "    print(\"Preprocessing completed!\")\n",
    "\n",
    "def apply_filter(data):\n",
    "    print(\"Applying filter to data\")\n",
    "    # Simulate filtering logic\n",
    "    print(\"Filtering data completed!\")\n",
    "    return data\n",
    "\n",
    "def perform_analysis(filtered_data):\n",
    "    print(\"Performing analysis on the filtered data\")\n",
    "    # Simulate analysis logic\n",
    "    print(\"Analysis completed!\")\n",
    "    return [1,2,3,4,5]\n",
    "\n",
    "\n",
    "# Full path to the raw data directory (replace with your actual path)\n",
    "raw_data_directory = r\"D:/WEHI Internship/Demo/PDC/PDC0003/raw_data\"\n",
    "\n",
    "\n"
   ]
  }
 ],
 "metadata": {
  "kernelspec": {
   "display_name": "Python 3",
   "language": "python",
   "name": "python3"
  },
  "language_info": {
   "codemirror_mode": {
    "name": "ipython",
    "version": 3
   },
   "file_extension": ".py",
   "mimetype": "text/x-python",
   "name": "python",
   "nbconvert_exporter": "python",
   "pygments_lexer": "ipython3",
   "version": "3.12.2"
  }
 },
 "nbformat": 4,
 "nbformat_minor": 2
}
